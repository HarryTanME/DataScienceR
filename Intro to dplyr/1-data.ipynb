{
 "cells": [
  {
   "cell_type": "code",
   "execution_count": 1,
   "metadata": {},
   "outputs": [
    {
     "name": "stderr",
     "output_type": "stream",
     "text": [
      "\n",
      "Attaching package: ‘dplyr’\n",
      "\n",
      "The following objects are masked from ‘package:stats’:\n",
      "\n",
      "    filter, lag\n",
      "\n",
      "The following objects are masked from ‘package:base’:\n",
      "\n",
      "    intersect, setdiff, setequal, union\n",
      "\n",
      "Warning message:\n",
      "“package ‘ggplot2’ was built under R version 3.4.2”"
     ]
    }
   ],
   "source": [
    "library(dplyr)\n",
    "library(ggplot2)"
   ]
  },
  {
   "cell_type": "code",
   "execution_count": 2,
   "metadata": {},
   "outputs": [],
   "source": [
    "flights <- tbl_df(read.csv(\"flights.csv\", stringsAsFactors = FALSE))\n",
    "flights$date <- as.Date(flights$date)\n",
    "\n",
    "weather <- tbl_df(read.csv(\"weather.csv\", stringsAsFactors = FALSE))\n",
    "weather$date <- as.Date(weather$date)\n",
    "\n",
    "planes <- tbl_df(read.csv(\"planes.csv\", stringsAsFactors = FALSE))\n",
    "\n",
    "airports <- tbl_df(read.csv(\"airports.csv\", stringsAsFactors = FALSE))\n",
    "\n",
    "#flights\n",
    "#weather\n",
    "#planes\n",
    "#airports"
   ]
  }
 ],
 "metadata": {
  "kernelspec": {
   "display_name": "R",
   "language": "R",
   "name": "ir"
  },
  "language_info": {
   "codemirror_mode": "r",
   "file_extension": ".r",
   "mimetype": "text/x-r-source",
   "name": "R",
   "pygments_lexer": "r",
   "version": "3.3.2"
  }
 },
 "nbformat": 4,
 "nbformat_minor": 2
}
