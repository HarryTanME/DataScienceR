{
 "cells": [
  {
   "cell_type": "code",
   "execution_count": null,
   "metadata": {},
   "outputs": [],
   "source": [
    "library(dplyr)\n",
    "source(\"1-data.R\")"
   ]
  },
  {
   "cell_type": "code",
   "execution_count": null,
   "metadata": {},
   "outputs": [],
   "source": [
    "# Create new sqlite3 database\n",
    "hflights_db <- src_sqlite(\"hflights.sqlite3\", create = TRUE)"
   ]
  },
  {
   "cell_type": "code",
   "execution_count": null,
   "metadata": {},
   "outputs": [],
   "source": [
    "# Copy local data to remote database. Use indexes to make\n",
    "# joins faster\n",
    "#\n",
    "# ?copy_to.src_sql\n",
    "copy_to(hflights_db, as.data.frame(flights), name = \"flights\", \n",
    "  indexes = list(c(\"date\", \"hour\"), \"plane\", \"dest\", \"arr\"), temporary = FALSE)\n",
    "copy_to(hflights_db, as.data.frame(weather), name = \"weather\", \n",
    "  indexes = list(c(\"date\", \"hour\")), temporary = FALSE)\n",
    "copy_to(hflights_db, as.data.frame(airports), name = \"airports\", \n",
    "  indexes = list(\"iata\"), temporary = FALSE)\n",
    "copy_to(hflights_db, as.data.frame(planes), name = \"planes\", \n",
    "  indexes = list(\"plane\"), temporary = FALSE)"
   ]
  },
  {
   "cell_type": "code",
   "execution_count": null,
   "metadata": {},
   "outputs": [],
   "source": [
    "# Once you have the data in the database, connect to it, instead of \n",
    "# loading data from disk\n",
    "flights_db <- hflights_db %>% tbl(\"flights\")\n",
    "weather_db <- hflights_db %>% tbl(\"weather\")\n",
    "planes_db <- hflights_db %>% tbl(\"planes\")\n",
    "airports_db <- hflights_db %>% tbl(\"airports\")"
   ]
  },
  {
   "cell_type": "code",
   "execution_count": null,
   "metadata": {},
   "outputs": [],
   "source": [
    "# You can now work with these objects like they're local data frames\n",
    "flights_db %>% filter(dest == \"SFO\")\n",
    "flights_db %>% left_join(planes_db)"
   ]
  },
  {
   "cell_type": "markdown",
   "metadata": {},
   "source": [
    "Note that you often won't know how many rows you'll get - that's an expensive operation (requires running the complete query) and dplyr doesn't do that unless it has to."
   ]
  },
  {
   "cell_type": "code",
   "execution_count": null,
   "metadata": {},
   "outputs": [],
   "source": [
    "# Operations are lazy: they don't do anything until you need to see the data\n",
    "hourly <- flights_db %>%\n",
    "  filter(!is.na(hour)) %>%\n",
    "  group_by(date, hour) %>%\n",
    "  summarise(n = n(), arr_delay = mean(arr_delay))\n",
    "\n",
    "flights_db %>% \n",
    "  filter(!is.na(dep_delay)) %>%\n",
    "  group_by(date, hour) %>%\n",
    "  summarise(\n",
    "    delay = mean(dep_delay),\n",
    "    n = n()\n",
    "  ) %>% \n",
    "  filter(n > 10) %>% explain()"
   ]
  },
  {
   "cell_type": "code",
   "execution_count": null,
   "metadata": {},
   "outputs": [],
   "source": [
    "# Use explain to see SQL and get query plan\n",
    "explain(hourly)\n",
    "hourly"
   ]
  },
  {
   "cell_type": "code",
   "execution_count": null,
   "metadata": {},
   "outputs": [],
   "source": [
    "# Use collect to pull down all data locally\n",
    "hourly_local <- collect(hourly)\n",
    "hourly_local\n",
    "\n",
    "# (Unfortunately date-time conversion for RSQLite is not great)"
   ]
  }
 ],
 "metadata": {
  "kernelspec": {
   "display_name": "R",
   "language": "R",
   "name": "ir"
  },
  "language_info": {
   "codemirror_mode": "r",
   "file_extension": ".r",
   "mimetype": "text/x-r-source",
   "name": "R",
   "pygments_lexer": "r",
   "version": "3.3.2"
  }
 },
 "nbformat": 4,
 "nbformat_minor": 2
}
