{
 "cells": [
  {
   "cell_type": "code",
   "execution_count": null,
   "metadata": {},
   "outputs": [],
   "source": [
    "source(\"1-data.R\")"
   ]
  },
  {
   "cell_type": "code",
   "execution_count": null,
   "metadata": {},
   "outputs": [],
   "source": [
    "hourly_delay <- filter(\n",
    "  summarise(\n",
    "    group_by(\n",
    "      filter(flights, !is.na(dep_delay)), \n",
    "      date, hour), \n",
    "    delay = mean(dep_delay), \n",
    "    n = n()), \n",
    "  n > 10\n",
    ")\n",
    "\n",
    "hourly_delay <- flights %>% \n",
    "  filter(!is.na(dep_delay)) %>%\n",
    "  group_by(date, hour) %>%\n",
    "  summarise(\n",
    "    delay = mean(dep_delay),\n",
    "    n = n()\n",
    "  ) %>% \n",
    "  filter(n > 10)"
   ]
  },
  {
   "cell_type": "code",
   "execution_count": null,
   "metadata": {},
   "outputs": [],
   "source": [
    "# Challenges -------------------------------------------------------------------\n",
    "\n",
    "flights %>%\n",
    "  group_by(dest) %>%\n",
    "  summarise(arr_delay = mean(arr_delay, na.rm = TRUE), n = n()) %>%\n",
    "  arrange(desc(arr_delay))\n",
    "\n",
    "flights %>% \n",
    "  group_by(carrier, flight, dest) %>% \n",
    "  tally(sort = TRUE) %>%\n",
    "  filter(n == 365)\n",
    "\n",
    "flights %>% \n",
    "  group_by(carrier, flight, dest) %>% \n",
    "  filter(n() == 365)\n",
    "\n",
    "per_hour <- flights %>%\n",
    "  filter(cancelled == 0) %>%\n",
    "  mutate(time = hour + minute / 60) %>%\n",
    "  group_by(time) %>%\n",
    "  summarise(arr_delay = mean(arr_delay, na.rm = TRUE), n = n())"
   ]
  },
  {
   "cell_type": "code",
   "execution_count": null,
   "metadata": {},
   "outputs": [],
   "source": [
    "qplot(time, arr_delay, data = per_hour)\n",
    "qplot(time, arr_delay, data = per_hour, size = n) + scale_size_area()\n",
    "qplot(time, arr_delay, data = filter(per_hour, n > 30), size = n) + scale_size_area()\n",
    "\n",
    "ggplot(filter(per_hour, n > 30), aes(time, arr_delay)) + \n",
    "  geom_vline(xintercept = 5:24, colour = \"white\", size = 2) +\n",
    "  geom_point()"
   ]
  }
 ],
 "metadata": {
  "kernelspec": {
   "display_name": "R",
   "language": "R",
   "name": "ir"
  },
  "language_info": {
   "codemirror_mode": "r",
   "file_extension": ".r",
   "mimetype": "text/x-r-source",
   "name": "R",
   "pygments_lexer": "r",
   "version": "3.3.2"
  }
 },
 "nbformat": 4,
 "nbformat_minor": 2
}
