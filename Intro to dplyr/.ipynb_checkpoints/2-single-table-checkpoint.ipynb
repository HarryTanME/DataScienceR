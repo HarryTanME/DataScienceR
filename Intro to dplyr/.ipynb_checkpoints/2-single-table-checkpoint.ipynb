{
 "cells": [
  {
   "cell_type": "code",
   "execution_count": null,
   "metadata": {},
   "outputs": [],
   "source": [
    "#load data \n",
    "source(\"1-data.R\")"
   ]
  },
  {
   "cell_type": "code",
   "execution_count": null,
   "metadata": {},
   "outputs": [],
   "source": [
    "sfo <- filter(flights, dest == \"SFO\")\n",
    "qplot(date, dep_delay, data = sfo)\n",
    "qplot(date, arr_delay, data = sfo)\n",
    "qplot(arr_delay, dep_delay, data = sfo)\n",
    "\n",
    "qplot(dep_delay, data = flights, binwidth = 10)\n",
    "qplot(dep_delay, data = flights, binwidth = 1) + xlim(0, 250)"
   ]
  },
  {
   "cell_type": "code",
   "execution_count": null,
   "metadata": {},
   "outputs": [],
   "source": [
    "by_day <- group_by(flights, date)\n",
    "daily_delay <- summarise(by_day, \n",
    "  dep = mean(dep_delay, na.rm = TRUE),\n",
    "  arr = mean(arr_delay, na.rm = TRUE)\n",
    ")\n",
    "qplot(date, dep, data = daily_delay, geom = \"line\")\n",
    "qplot(date, arr, data = daily_delay, geom = \"line\")"
   ]
  },
  {
   "cell_type": "code",
   "execution_count": null,
   "metadata": {},
   "outputs": [],
   "source": [
    "# What's the best way to measure delay? ---------------------------------------\n",
    "daily_delay <- by_day %>% \n",
    "  filter(!is.na(dep_delay)) %>%\n",
    "  summarise(\n",
    "    mean = mean(dep_delay),\n",
    "    median = median(dep_delay),\n",
    "    q75 = quantile(dep_delay, 0.75),\n",
    "    over_15 = mean(dep_delay > 15),\n",
    "    over_30 = mean(dep_delay > 30),\n",
    "    over_60 = mean(dep_delay > 60)\n",
    "  )"
   ]
  },
  {
   "cell_type": "code",
   "execution_count": null,
   "metadata": {},
   "outputs": [],
   "source": [
    "qplot(date, mean, data = daily_delay)\n",
    "qplot(date, median, data = daily_delay)\n",
    "qplot(date, q75, data = daily_delay)\n",
    "qplot(date, over_15, data = daily_delay)\n",
    "qplot(date, over_30, data = daily_delay)\n",
    "qplot(date, over_60, data = daily_delay)"
   ]
  }
 ],
 "metadata": {
  "kernelspec": {
   "display_name": "R",
   "language": "R",
   "name": "ir"
  },
  "language_info": {
   "codemirror_mode": "r",
   "file_extension": ".r",
   "mimetype": "text/x-r-source",
   "name": "R",
   "pygments_lexer": "r",
   "version": "3.3.2"
  }
 },
 "nbformat": 4,
 "nbformat_minor": 2
}
