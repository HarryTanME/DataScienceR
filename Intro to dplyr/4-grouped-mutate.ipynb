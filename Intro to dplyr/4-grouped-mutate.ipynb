{
 "cells": [
  {
   "cell_type": "code",
   "execution_count": null,
   "metadata": {},
   "outputs": [],
   "source": [
    "source(\"1-data.R\")"
   ]
  },
  {
   "cell_type": "code",
   "execution_count": null,
   "metadata": {},
   "outputs": [],
   "source": [
    "# Motivating examples\n",
    "\n",
    "planes <- flights %>%\n",
    "  filter(!is.na(arr_delay)) %>%\n",
    "  group_by(plane) %>%\n",
    "  filter(n() > 30)\n",
    "\n",
    "planes %>%\n",
    "  mutate(z_delay = (arr_delay - mean(arr_delay)) / sd(arr_delay)) %>%\n",
    "  filter(z_delay > 5)\n",
    "\n",
    "planes %>% filter(min_rank(arr_delay) < 5)"
   ]
  },
  {
   "cell_type": "code",
   "execution_count": null,
   "metadata": {},
   "outputs": [],
   "source": [
    "# Ranking functions \n",
    "\n",
    "min_rank(c(1, 1, 2, 3))\n",
    "dense_rank(c(1, 1, 2, 3))\n",
    "row_number(c(1, 1, 2, 3))\n",
    "\n",
    "flights %>% group_by(plane) %>% filter(row_number(desc(arr_delay)) <= 2)\n",
    "flights %>% group_by(plane) %>% filter(min_rank(desc(arr_delay)) <= 2)\n",
    "flights %>% group_by(plane) %>% filter(dense_rank(desc(arr_delay)) <= 2)"
   ]
  },
  {
   "cell_type": "code",
   "execution_count": null,
   "metadata": {},
   "outputs": [],
   "source": [
    "# Lead and lag \n",
    "\n",
    "daily <- flights %>% \n",
    "  group_by(date) %>% \n",
    "  summarise(delay = mean(dep_delay, na.rm = TRUE))\n",
    "\n",
    "daily %>% mutate(delay - lag(delay))\n",
    "daily %>% mutate(delay - lag(delay))"
   ]
  }
 ],
 "metadata": {
  "kernelspec": {
   "display_name": "R",
   "language": "R",
   "name": "ir"
  },
  "language_info": {
   "codemirror_mode": "r",
   "file_extension": ".r",
   "mimetype": "text/x-r-source",
   "name": "R",
   "pygments_lexer": "r",
   "version": "3.3.2"
  }
 },
 "nbformat": 4,
 "nbformat_minor": 2
}
