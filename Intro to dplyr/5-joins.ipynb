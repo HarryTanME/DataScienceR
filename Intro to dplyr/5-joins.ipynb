{
 "cells": [
  {
   "cell_type": "code",
   "execution_count": null,
   "metadata": {},
   "outputs": [],
   "source": [
    "source(\"1-data.R\")\n",
    "install.packages('maps')"
   ]
  },
  {
   "cell_type": "code",
   "execution_count": null,
   "metadata": {},
   "outputs": [],
   "source": [
    "# Motivation: plotting delays on map -------------------------------------------\n",
    "\n",
    "location <- airports %>% \n",
    "  select(dest = iata, name = airport, lat, long)\n",
    "\n",
    "delays <- flights %>%\n",
    "  group_by(dest) %>%\n",
    "  summarise(arr_delay = mean(arr_delay, na.rm = TRUE), n = n()) %>%\n",
    "  arrange(desc(arr_delay)) %>%\n",
    "  inner_join(location)\n",
    "\n",
    "ggplot(delays, aes(long, lat)) + \n",
    "  borders(\"state\") + \n",
    "  geom_point(aes(colour = arr_delay), size = 5, alpha = 0.9) + \n",
    "  scale_colour_gradient2() +\n",
    "  coord_quickmap()\n",
    "\n",
    "delays %>% filter(arr_delay < 0)"
   ]
  },
  {
   "cell_type": "code",
   "execution_count": null,
   "metadata": {},
   "outputs": [],
   "source": [
    "# What weather condition is most related to delays? ----------------------------\n",
    "\n",
    "hourly_delay <- flights %>% \n",
    "  group_by(date, hour) %>%\n",
    "  filter(!is.na(dep_delay)) %>%\n",
    "  summarise(\n",
    "    delay = mean(dep_delay),\n",
    "    n = n()\n",
    "  ) %>% \n",
    "  filter(n > 10)\n",
    "delay_weather <- hourly_delay %>% left_join(weather)\n",
    "\n",
    "arrange(delay_weather, desc(delay))\n",
    "\n",
    "qplot(temp, delay, data = delay_weather)\n",
    "qplot(wind_speed, delay, data = delay_weather)\n",
    "qplot(gust_speed, delay, data = delay_weather)\n",
    "qplot(is.na(gust_speed), delay, data = delay_weather, geom = \"boxplot\")\n",
    "qplot(conditions, delay, data = delay_weather, geom = \"boxplot\") + coord_flip()\n",
    "qplot(events, delay, data = delay_weather, geom = \"boxplot\") + coord_flip()"
   ]
  },
  {
   "cell_type": "code",
   "execution_count": null,
   "metadata": {},
   "outputs": [],
   "source": [
    "# Another approach is to look at a specific day and think about\n",
    "# unusual values\n",
    "june22 <- filter(flights, date == as.Date(\"2011-06-22\"))\n",
    "qplot(hour + minute / 60, dep_delay, data = june22)"
   ]
  },
  {
   "cell_type": "code",
   "execution_count": null,
   "metadata": {},
   "outputs": [],
   "source": [
    "# What plane conditions are most related to delays? ----------------------------\n",
    "\n",
    "planes <- tbl_df(read.csv(\"planes.csv\", stringsAsFactors = FALSE))\n",
    "planes %>% group_by(type) %>% tally()\n",
    "planes %>% group_by(engine) %>% tally()\n",
    "planes %>% group_by(type, engine) %>% tally()\n",
    "\n",
    "qplot(year, data = planes, binwidth = 1)\n",
    "#planes %>% filter(year <= 1960) %>% View()\n",
    "\n",
    "qplot(no.seats, data = planes, binwidth = 10)\n",
    "#planes %>% filter(no.seats < 10) %>% View()\n",
    "\n",
    "plane_delay <- flights %>% \n",
    "  group_by(plane) %>%\n",
    "  summarise(\n",
    "    n = n(),\n",
    "    dist = mean(dist),\n",
    "    delay = mean(dep_delay, na.rm = TRUE)\n",
    "  )\n",
    "anti_join(plane_delay, planes) %>% arrange(desc(n)) %>% View()"
   ]
  },
  {
   "cell_type": "code",
   "execution_count": null,
   "metadata": {},
   "outputs": [],
   "source": [
    "# What's the common pattern?\n",
    "\n",
    "plane_delay <- plane_delay %>% left_join(planes)\n",
    "\n",
    "plane_delay %>% arrange(n)\n",
    "qplot(n, data = plane_delay, binwidth = 1)\n",
    "qplot(n, data = plane_delay, binwidth = 1) + xlim(0, 250)\n",
    "\n",
    "plane_delay <- plane_delay %>% filter(n > 50)\n",
    "qplot(dist, delay, data = plane_delay)\n",
    "\n",
    "qplot(year, delay, data = plane_delay)\n",
    "qplot(year, delay, data = plane_delay) + \n",
    "  xlim(1990, 2011) + \n",
    "  geom_smooth(span = 0.5, method = \"loess\")"
   ]
  }
 ],
 "metadata": {
  "kernelspec": {
   "display_name": "R",
   "language": "R",
   "name": "ir"
  },
  "language_info": {
   "codemirror_mode": "r",
   "file_extension": ".r",
   "mimetype": "text/x-r-source",
   "name": "R",
   "pygments_lexer": "r",
   "version": "3.3.2"
  }
 },
 "nbformat": 4,
 "nbformat_minor": 2
}
