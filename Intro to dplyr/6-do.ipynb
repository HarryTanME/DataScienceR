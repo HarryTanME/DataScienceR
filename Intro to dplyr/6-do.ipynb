{
 "cells": [
  {
   "cell_type": "code",
   "execution_count": null,
   "metadata": {},
   "outputs": [],
   "source": [
    "options(digits = 3)\n",
    "# Do with one unnamed argument -------------------------------------------------"
   ]
  },
  {
   "cell_type": "code",
   "execution_count": null,
   "metadata": {},
   "outputs": [],
   "source": [
    "# Derived from http://stackoverflow.com/a/23341485/16632\n",
    "library(dplyr)\n",
    "library(zoo)"
   ]
  },
  {
   "cell_type": "code",
   "execution_count": null,
   "metadata": {},
   "outputs": [],
   "source": [
    "# Data frame\n",
    "df <- data.frame(\n",
    "  houseID = rep(1:10, each = 10), \n",
    "  year = 1995:2004, \n",
    "  price = ifelse(runif(10 * 10) > 0.50, NA, exp(rnorm(10 * 10)))\n",
    ")"
   ]
  },
  {
   "cell_type": "code",
   "execution_count": null,
   "metadata": {},
   "outputs": [],
   "source": [
    "# . is a pronoun representing the current group\n",
    "\n",
    "df %>% \n",
    "  group_by(houseID) %>% \n",
    "  do(na.locf(.))\n",
    "\n",
    "df %>% \n",
    "  group_by(houseID) %>% \n",
    "  do(head(., 2))\n",
    "\n",
    "df %>% \n",
    "  group_by(houseID) %>% \n",
    "  do(data.frame(year = .$year[1]))"
   ]
  },
  {
   "cell_type": "code",
   "execution_count": null,
   "metadata": {},
   "outputs": [],
   "source": [
    "# Do with multiple named arguments ---------------------------------------------\n",
    "source(\"1-data.R\")\n",
    "# How do delays vary over the course of the day?\n",
    "\n",
    "models <- flights %>% \n",
    "  filter(hour >= 5, hour <= 20) %>%\n",
    "  group_by(date) %>%\n",
    "  do(\n",
    "    mod = lm(dep_delay ~ hour, data = .)\n",
    "  )\n",
    "\n",
    "models\n",
    "str(models) # don't do this!\n",
    "str(models[1, ])"
   ]
  },
  {
   "cell_type": "code",
   "execution_count": null,
   "metadata": {},
   "outputs": [],
   "source": [
    "rsq <- function(x) summary(x)$r.squared\n",
    "fit <- models %>% \n",
    "  summarise(date = as.Date(date[1]), rsq = rsq(mod))\n",
    "fit %>% arrange(desc(rsq))\n",
    "fit %>% arrange(rsq)\n",
    "\n",
    "coef_df <- function(x) {\n",
    "  sc <- coef(summary(x))\n",
    "  colnames(sc) <- c(\"est\", \"se\", \"t\", \"P\")\n",
    "  data.frame(coef = rownames(sc), sc)\n",
    "}\n",
    "models %>% do(coef_df(.$mod))\n",
    "\n",
    "hourly <- flights %>%\n",
    "  filter(hour >= 5, hour <= 20) %>%\n",
    "  group_by(date, hour) %>%\n",
    "  summarise(dep_delay = mean(dep_delay))\n",
    "\n",
    "qplot(hour, dep_delay, data = hourly %>% semi_join(fit %>% filter(rsq > 0.2)), geom = \"line\") + facet_wrap(~date)\n",
    "qplot(hour, dep_delay, data = hourly %>% semi_join(fit %>% filter(rsq < 0.001)), geom = \"line\") + facet_wrap(~date)"
   ]
  }
 ],
 "metadata": {
  "kernelspec": {
   "display_name": "R",
   "language": "R",
   "name": "ir"
  },
  "language_info": {
   "codemirror_mode": "r",
   "file_extension": ".r",
   "mimetype": "text/x-r-source",
   "name": "R",
   "pygments_lexer": "r",
   "version": "3.3.2"
  }
 },
 "nbformat": 4,
 "nbformat_minor": 2
}
