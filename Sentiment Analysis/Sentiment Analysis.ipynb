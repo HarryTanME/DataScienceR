{
 "cells": [
  {
   "cell_type": "code",
   "execution_count": 3,
   "metadata": {},
   "outputs": [
    {
     "name": "stderr",
     "output_type": "stream",
     "text": [
      "also installing the dependencies ‘irlba’, ‘pkgconfig’, ‘openNLPdata’, ‘rJava’, ‘slam’, ‘xlsxjars’, ‘qdapDictionaries’, ‘qdapRegex’, ‘qdapTools’, ‘gender’, ‘gridExtra’, ‘igraph’, ‘NLP’, ‘openNLP’, ‘plotrix’, ‘reports’, ‘stringdist’, ‘tm’, ‘venneuler’, ‘wordcloud’, ‘xlsx’, ‘XML’\n",
      "\n",
      "Warning message in install.packages(\"qdap\"):\n",
      "“installation of package ‘rJava’ had non-zero exit status”Warning message in install.packages(\"qdap\"):\n",
      "“installation of package ‘openNLPdata’ had non-zero exit status”Warning message in install.packages(\"qdap\"):\n",
      "“installation of package ‘xlsxjars’ had non-zero exit status”Warning message in install.packages(\"qdap\"):\n",
      "“installation of package ‘igraph’ had non-zero exit status”Warning message in install.packages(\"qdap\"):\n",
      "“installation of package ‘venneuler’ had non-zero exit status”Warning message in install.packages(\"qdap\"):\n",
      "“installation of package ‘openNLP’ had non-zero exit status”Warning message in install.packages(\"qdap\"):\n",
      "“installation of package ‘xlsx’ had non-zero exit status”Warning message in install.packages(\"qdap\"):\n",
      "“installation of package ‘qdap’ had non-zero exit status”Updating HTML index of packages in '.Library'\n",
      "Making 'packages.html' ... done\n"
     ]
    },
    {
     "ename": "ERROR",
     "evalue": "Error in library(qdap): there is no package called ‘qdap’\n",
     "execution_count": 3,
     "output_type": "error",
     "traceback": [
      "Error in library(qdap): there is no package called ‘qdap’\nTraceback:\n",
      "1. library(qdap)",
      "2. stop(txt, domain = NA)"
     ]
    }
   ],
   "source": [
    "install.packages('qdap')\n",
    "library(qdap)\n",
    "#a good package, also takes into account  negative words and amplifiers\n",
    "#see: http://www.inside-r.org/packages/cran/qdap/docs/polarity\n",
    "\n",
    "data<- read.csv(\"comments.csv\")\n",
    "mycorpus<-Corpus(VectorSource(data$message))"
   ]
  },
  {
   "cell_type": "code",
   "execution_count": null,
   "metadata": {},
   "outputs": [],
   "source": [
    "#inspect the first few comments\n",
    "inspect(mycorpus[1:4])"
   ]
  },
  {
   "cell_type": "code",
   "execution_count": null,
   "metadata": {},
   "outputs": [],
   "source": [
    "\n",
    "#Sentiment Analysis\n",
    "#Text Segmentation\n",
    "\n",
    "mycorpus<-tm_map(mycorpus,tolower)\n",
    "mycorpus<-tm_map(mycorpus,removePunctuation)\n",
    "mycorpus<-tm_map(mycorpus,removeNumbers)\n",
    "mycorpus<-tm_map(mycorpus,removeWords,stopwords(kind=\"English\"))\n",
    "stopwords(kind=\"English\")\n",
    "mycorpus<-tm_map(mycorpus,stripWhitespace)\n",
    "mycorpus<-tm_map(mycorpus,PlainTextDocument)"
   ]
  },
  {
   "cell_type": "code",
   "execution_count": null,
   "metadata": {},
   "outputs": [],
   "source": [
    "\n",
    "#convert corpus to data frame\n",
    "mydf<-data.frame(text=unlist(sapply(mycorpus,'[',\"content\")),stringAsFactors=FALSE)\n",
    "mydf$text<-as.character(mydf$text)\n",
    "\n",
    "\n",
    "a <- unlist(apply(mydf,1,function(x) polarity(x[1])[[2]]$ave.polarity))\n",
    "attributes(a) <- NULL\n",
    "a  <- as.vector(a)\n",
    "score <- data.frame(\"Sentence_Num\" = 1:nrow(mydf),\"Sentiment Score\" = a)\n",
    "\n",
    "str(score)\n",
    "final<-cbind(data, score[,2])\n",
    "\n",
    "write.csv(final,\"final.csv\")"
   ]
  },
  {
   "cell_type": "markdown",
   "metadata": {},
   "source": [
    "# References:\n",
    "\n",
    "http://stackoverflow.com/questions/22774913/estimating-document-polarity-using-rs-qdap-package-without-sentsplit"
   ]
  }
 ],
 "metadata": {
  "kernelspec": {
   "display_name": "R",
   "language": "R",
   "name": "ir"
  },
  "language_info": {
   "codemirror_mode": "r",
   "file_extension": ".r",
   "mimetype": "text/x-r-source",
   "name": "R",
   "pygments_lexer": "r",
   "version": "3.3.2"
  }
 },
 "nbformat": 4,
 "nbformat_minor": 2
}
