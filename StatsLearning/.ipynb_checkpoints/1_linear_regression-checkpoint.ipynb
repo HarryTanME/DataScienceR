{
 "cells": [
  {
   "cell_type": "code",
   "execution_count": null,
   "metadata": {},
   "outputs": [],
   "source": [
    "install.packages('ISLR')\n",
    "library(MASS) #loads dataset from the book MASS\n",
    "library(ISLR) #dataset by Statistical Learning professors"
   ]
  },
  {
   "cell_type": "code",
   "execution_count": null,
   "metadata": {},
   "outputs": [],
   "source": [
    "##Simple Linear Regression\n",
    "data(Boston)\n",
    "names(Boston)\n",
    "?Boston"
   ]
  },
  {
   "cell_type": "code",
   "execution_count": null,
   "metadata": {},
   "outputs": [],
   "source": [
    "plot(medv~lstat, Boston) #as lower status people decrease, median value of houses increase\n",
    "#response~predictor (response is modeled as predictor)\n",
    "fit1<-lm(medv~lstat, Boston)\n",
    "fit1\n",
    "summary(fit1)\n",
    "\n",
    "#add a line to the fit \n",
    "abline(fit1,col=\"red\")"
   ]
  },
  {
   "cell_type": "code",
   "execution_count": null,
   "metadata": {},
   "outputs": [],
   "source": [
    "#see the components of fit\n",
    "#access any one of these like \"fit1$coefficients\" etc.\n",
    "names(fit1)\n"
   ]
  },
  {
   "cell_type": "code",
   "execution_count": null,
   "metadata": {},
   "outputs": [],
   "source": [
    "fit1$coefficients"
   ]
  },
  {
   "cell_type": "code",
   "execution_count": null,
   "metadata": {},
   "outputs": [],
   "source": [
    "#95% confidence interval\n",
    "confint(fit1)\n"
   ]
  },
  {
   "cell_type": "code",
   "execution_count": null,
   "metadata": {},
   "outputs": [],
   "source": [
    "#predict medv (response) for these 3 values of lstat (predictor). \n",
    "#also show confidece intervals\n",
    "predict(fit1,data.frame(lstat=c(5,10,15)),interval=\"confidence\")\n"
   ]
  },
  {
   "cell_type": "code",
   "execution_count": null,
   "metadata": {},
   "outputs": [],
   "source": [
    "##Multiple Linear Regression\n",
    "fit2<-lm(medv~lstat+age,data=Boston) \n",
    "summary(fit2)\n",
    "plot(fit2$residuals)\n",
    "plot(fitted(fit2),fit2$residuals)\n",
    "hist(fit2$residuals)\n",
    "\n",
    "fit3<-lm(medv~.,data=Boston)\n",
    "summary(fit3)"
   ]
  },
  {
   "cell_type": "code",
   "execution_count": null,
   "metadata": {},
   "outputs": [],
   "source": [
    "#plot residuals\n",
    "par(mfrow=c(2,2))\n",
    "plot(fit3)\n",
    "hist(fit3$residuals)\n",
    "\n",
    "par(mfrow=c(1,1))\n",
    "plot(fitted(fit3),fit3$residuals)"
   ]
  },
  {
   "cell_type": "code",
   "execution_count": null,
   "metadata": {},
   "outputs": [],
   "source": [
    "#update function used below to remove 'age' and 'indus' from the model \n",
    "fit4<- update(fit3,~.-age-indus)\n",
    "summary(fit4)"
   ]
  },
  {
   "cell_type": "code",
   "execution_count": null,
   "metadata": {},
   "outputs": [],
   "source": [
    "##Non Linearities and Interactions\n",
    "#\"*\" in the formula means we'll have both main-effects &interaction\n",
    "fit5<-lm(medv~lstat*age, Boston)\n",
    "summary(fit5)"
   ]
  },
  {
   "cell_type": "code",
   "execution_count": null,
   "metadata": {},
   "outputs": [],
   "source": [
    "#\"^\" term has to be put inside identity function so that ^ is not computed while \n",
    "#executing and so that lstat^2 is treated as a separate term\n",
    "fit6<-lm(medv~lstat+ I(lstat^2), Boston)\n",
    "summary(fit6)\n",
    "plot(fit6)\n",
    "\n",
    "attach(Boston) #make the named variables in Boston avaliable in our R data space\n",
    "par(mfrow=c(1,1))\n",
    "plot(medv~lstat)\n",
    "#cant use abline since that only works when we've a straight line fit\n",
    "#fitted(fit6) gives fitted value from the model for each value of lstat in training data\n",
    "points(lstat,fitted(fit6),col=\"red\",pch=20)\n",
    "\n",
    "#fit polynomial of degree 4\n",
    "fit7<-lm(medv~poly(lstat,4))\n",
    "points(lstat,fitted(fit7),col=\"blue\",pch=20) #little more wiggly than desired (overfit)"
   ]
  },
  {
   "cell_type": "code",
   "execution_count": null,
   "metadata": {},
   "outputs": [],
   "source": [
    "#see all plotting characters\n",
    "plot(1:20,1:20,pch=1:20,cex=2)"
   ]
  },
  {
   "cell_type": "code",
   "execution_count": null,
   "metadata": {},
   "outputs": [],
   "source": [
    "##Qualitative Predictors\n",
    "fix(Carseats) #fix opens an external window with the dataframe\n",
    "names(Carseats)\n",
    "summary(Carseats)"
   ]
  },
  {
   "cell_type": "code",
   "execution_count": null,
   "metadata": {},
   "outputs": [],
   "source": [
    "#* and : both represent interaction terms \n",
    "fit8<-lm(Sales~.+Income*Advertising+Age:Price,data=Carseats)\n",
    "summary(fit8)"
   ]
  },
  {
   "cell_type": "code",
   "execution_count": null,
   "metadata": {},
   "outputs": [],
   "source": [
    "#ShelveLoc is a qualitative predictor\n",
    "#contrasts shows how factors are treated in the model\n",
    "#only 2 dummy variables \"Good\" AND \"Medium\" are generated\n",
    "#number of dummy variables is 1 less than number of levels in the\n",
    "#factor variable (ShelveLoc) to prevent multi collinearity\n",
    "contrasts(Carseats$ShelveLoc)\n"
   ]
  }
 ],
 "metadata": {
  "kernelspec": {
   "display_name": "R",
   "language": "R",
   "name": "ir"
  },
  "language_info": {
   "codemirror_mode": "r",
   "file_extension": ".r",
   "mimetype": "text/x-r-source",
   "name": "R",
   "pygments_lexer": "r",
   "version": "3.3.2"
  }
 },
 "nbformat": 4,
 "nbformat_minor": 2
}
