{
 "cells": [
  {
   "cell_type": "code",
   "execution_count": null,
   "metadata": {},
   "outputs": [],
   "source": [
    "install.packages(\"ISLR\")\n",
    "require(ISLR)\n",
    "names(Smarket)\n",
    "summary(Smarket)\n",
    "\n",
    "mydata<-Smarket\n",
    "?Smarket"
   ]
  },
  {
   "cell_type": "code",
   "execution_count": null,
   "metadata": {},
   "outputs": [],
   "source": [
    "#plot the data\n",
    "pairs(Smarket,col=Smarket$Direction)\n",
    "\n",
    "#Logistic Regression\n",
    "#family=Binomial means logistic regression\n",
    "glm.fit<- glm(Direction~ Lag1+Lag2+Lag3+Lag4+Lag5+Volume,data=Smarket,family=binomial)\n",
    "#?glm\n",
    "#?family\n",
    "summary(glm.fit)\n",
    "glm.probs=predict(glm.fit,type=\"response\")"
   ]
  },
  {
   "cell_type": "code",
   "execution_count": null,
   "metadata": {},
   "outputs": [],
   "source": [
    "#install.packages(\"usdm\")\n",
    "library(car)\n",
    "vif(glm.fit) # variance inflation factors \n",
    "sqrt(vif(glm.fit)) > 2"
   ]
  }
 ],
 "metadata": {
  "kernelspec": {
   "display_name": "R",
   "language": "R",
   "name": "ir"
  },
  "language_info": {
   "codemirror_mode": "r",
   "file_extension": ".r",
   "mimetype": "text/x-r-source",
   "name": "R",
   "pygments_lexer": "r",
   "version": "3.3.2"
  }
 },
 "nbformat": 4,
 "nbformat_minor": 2
}
