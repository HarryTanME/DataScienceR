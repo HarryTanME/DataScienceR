{
 "cells": [
  {
   "cell_type": "markdown",
   "metadata": {},
   "source": [
    "# Session: k-Means Clustering in R \n",
    "Created By: Ujjwal Karn           \n",
    "Date: 05-Oct-2015                 \n",
    "\n",
    "# Topics Covered\n",
    "\n",
    "1. Reading data and Summary Statistics\n",
    "2. Determining the Optimal Number of Clusters\n",
    "3. Running Clustering Algorithm and Visualisations\n"
   ]
  },
  {
   "cell_type": "code",
   "execution_count": null,
   "metadata": {},
   "outputs": [],
   "source": [
    "##############################################################################\n",
    "#Reading data and Summary Statistics\n",
    "\n",
    "#change the working directory\n",
    "#setwd(\".\")\n",
    "\n",
    "mydata<-read.csv(\"data/kmeans_data.csv\")\n",
    "\n",
    "head(mydata)\n",
    "str(mydata)\n",
    "summary(mydata)\n",
    "\n",
    "plot(mydata[c(\"Sepal.Length\", \"Sepal.Width\")], main=\"Raw Data\")\n",
    "\n",
    "#standardising the data\n",
    "mydata <- scale(mydata)\n"
   ]
  },
  {
   "cell_type": "code",
   "execution_count": null,
   "metadata": {},
   "outputs": [],
   "source": [
    "\n",
    "##############################################################################\n",
    "#Determining the Optimal Number of Clusters\n",
    "#http://stackoverflow.com/questions/15376075/cluster-analysis-in-r-determine-the-optimal-number-of-clusters/\n",
    "\n",
    "wss <- (nrow(mydata)-1)*sum(apply(mydata,2,var))\n",
    "\n",
    "for(i in 1:25){wss[i] <- sum(kmeans(mydata, centers=i)$withinss)}\n",
    "\n",
    "plot(1:25, wss, type=\"b\", xlab=\"No. of Clusters\", ylab=\"wss\")\n",
    "\n",
    "wss"
   ]
  },
  {
   "cell_type": "code",
   "execution_count": null,
   "metadata": {},
   "outputs": [],
   "source": [
    "\n",
    "##############################################################################\n",
    "#Running Clustering Algorithm\n",
    "\n",
    "# trying with 4 clusters\n",
    "clus4 <- kmeans(mydata, centers=4, nstart=30)\n",
    "\n",
    "#check between_SS / total_SS\n",
    "clus4\n",
    "\n",
    "# get cluster means \n",
    "aggregate(mydata ,by=list(clus4$cluster), FUN=mean)\n",
    "\n",
    "# append cluster assignment\n",
    "mydata <- data.frame(mydata, clus4$cluster)\n",
    "\n",
    "#summary\n",
    "groups <- data.frame(clus4$cluster)\n",
    "table(groups)\n",
    "\n",
    "plot(mydata[c(\"Sepal.Length\", \"Sepal.Width\")], col=clus4$cluster)\n",
    "points(clus4$centers[,c(\"Sepal.Length\", \"Sepal.Width\")], col=1:3, pch=8, cex=2)\n",
    "\n"
   ]
  },
  {
   "cell_type": "code",
   "execution_count": null,
   "metadata": {},
   "outputs": [],
   "source": [
    "\n",
    "# trying with 3 clusters\n",
    "clus3 <- kmeans(mydata, centers=3, nstart=20)\n",
    "clus3\n",
    "\n",
    "# get cluster means \n",
    "aggregate(mydata ,by=list(clus3$cluster), FUN=mean)\n",
    "\n",
    "# append cluster assignment\n",
    "mydata <- data.frame(mydata, clus3$cluster)\n",
    "\n",
    "#summary\n",
    "groups <- data.frame(clus3$cluster)\n",
    "table(groups)"
   ]
  },
  {
   "cell_type": "code",
   "execution_count": null,
   "metadata": {},
   "outputs": [],
   "source": [
    "plot(mydata[c(\"Sepal.Length\", \"Sepal.Width\")], col=clus3$cluster)\n",
    "points(clus3$centers[,c(\"Sepal.Length\", \"Sepal.Width\")], col=1:3, pch=8, cex=2)\n"
   ]
  }
 ],
 "metadata": {
  "kernelspec": {
   "display_name": "R",
   "language": "R",
   "name": "ir"
  },
  "language_info": {
   "codemirror_mode": "r",
   "file_extension": ".r",
   "mimetype": "text/x-r-source",
   "name": "R",
   "pygments_lexer": "r",
   "version": "3.3.2"
  }
 },
 "nbformat": 4,
 "nbformat_minor": 2
}
