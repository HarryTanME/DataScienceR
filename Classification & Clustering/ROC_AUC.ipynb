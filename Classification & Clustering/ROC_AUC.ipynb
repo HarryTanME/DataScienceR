{
 "cells": [
  {
   "cell_type": "code",
   "execution_count": null,
   "metadata": {},
   "outputs": [],
   "source": [
    "install.packages(c('ROCR','Epi'))\n",
    "library(ROCR)\n",
    "library(Epi)"
   ]
  },
  {
   "cell_type": "code",
   "execution_count": null,
   "metadata": {},
   "outputs": [],
   "source": [
    "\n",
    "pred<-prediction(c(0.1,.5,.3,.8,.9,.4,.9,.5), c(0,0,0,1,1,1,1,1))\n",
    "perf <- performance(pred, \"tpr\", \"fpr\")\n",
    "plot(perf)"
   ]
  },
  {
   "cell_type": "code",
   "execution_count": null,
   "metadata": {},
   "outputs": [],
   "source": [
    "\n",
    "pred<-prediction(c(0.1,.5,.9,.8,.5,.5,.5,.7), c(0,0,0,1,1,1,1,1))\n",
    "perf <- performance(pred, \"tpr\", \"fpr\")\n",
    "plot(perf)\n"
   ]
  },
  {
   "cell_type": "code",
   "execution_count": null,
   "metadata": {},
   "outputs": [],
   "source": [
    "perf <- performance(pred, \"sens\", \"spec\")\n",
    "plot(perf)"
   ]
  },
  {
   "cell_type": "code",
   "execution_count": null,
   "metadata": {},
   "outputs": [],
   "source": [
    "data(ROCR.simple)\n",
    "pred <- prediction( ROCR.simple$predictions, ROCR.simple$labels)\n",
    "perf <- performance(pred,\"tpr\",\"fpr\")\n",
    "plot(perf)"
   ]
  },
  {
   "cell_type": "code",
   "execution_count": null,
   "metadata": {},
   "outputs": [],
   "source": [
    "\n",
    "cutoffs <- data.frame(cut=perf@alpha.values[[1]], fpr=perf@x.values[[1]], \n",
    "                      tpr=perf@y.values[[1]])\n",
    "\n",
    "subset(cutoffs, fpr == tpr)\n",
    "\n"
   ]
  },
  {
   "cell_type": "code",
   "execution_count": null,
   "metadata": {},
   "outputs": [],
   "source": [
    "\n",
    "x <- rnorm( 100 )\n",
    "z <- rnorm( 100 )\n",
    "w <- rnorm( 100 )\n",
    "tigol <- function( x ) 1 - ( 1 + exp( x ) )^(-1)\n",
    "y <- rbinom( 100, 1, tigol( 0.3 + 3*x + 5*z + 7*w ) )\n",
    "rc <- ROC( form = y ~ x + z, plot=\"sp\" ) \n",
    "## optimal combination\n",
    "opt <- which.max(rowSums(rc$res[, c(\"sens\", \"spec\")]))\n",
    "## optimal cut-off point \n",
    "rc$res$lr.eta[opt]\n",
    "\n",
    "ROC(form = y ~ x + z, plot = \"ROC\", MX = TRUE)"
   ]
  }
 ],
 "metadata": {
  "kernelspec": {
   "display_name": "R",
   "language": "R",
   "name": "ir"
  },
  "language_info": {
   "codemirror_mode": "r",
   "file_extension": ".r",
   "mimetype": "text/x-r-source",
   "name": "R",
   "pygments_lexer": "r",
   "version": "3.3.2"
  }
 },
 "nbformat": 4,
 "nbformat_minor": 2
}
