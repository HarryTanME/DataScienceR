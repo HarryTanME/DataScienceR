{
 "cells": [
  {
   "cell_type": "code",
   "execution_count": null,
   "metadata": {},
   "outputs": [],
   "source": [
    "\n",
    "library(RCurl)\n",
    "library(rjson)\n",
    "library(Rfacebook)\n",
    "library(help=Rfacebook)\n"
   ]
  },
  {
   "cell_type": "code",
   "execution_count": null,
   "metadata": {},
   "outputs": [],
   "source": [
    "\n",
    "# link to get access token\n",
    "#https://developers.facebook.com/tools/explorer\n",
    "accessToken <-\"XYZ\"\n",
    "\n",
    "# Suppose we want to extract data from a page called \"ABXC\" Page having address www.facebook.com/abc\n",
    "abcPage <-getPage(page=\"abc\", token=accessToken, n=15000)\n",
    "\n",
    "# Check if topic is \"TOPIC1\"\n",
    "posts.abc.index <- grepl(\"TOPIC1\",abcPage$message)\n",
    "table(posts.abc.index)\n",
    "\n",
    "posts.abc <- abcPage[posts.abc.index,] \n",
    "\n",
    "# Now post information \n",
    "for (p in posts.abc$id){\n",
    "  # Extract Comments\n",
    "  post1 <-getPost(post=p,\n",
    "                  token=accessToken,\n",
    "                  n=15000,\n",
    "                  comments=TRUE,\n",
    "                  likes=T\n",
    "  )\n",
    "  post.sum <-post1$post\n",
    "  post.likes<-post1$likes\n",
    "  post.comments <-post1$comments\n",
    "  # No imformation on who shared...\n",
    "  # Initialize & assign\n",
    "  if(p==posts.abc$id[1]){\n",
    "    c.post.sum <-post.sum\n",
    "    c.post.likes <- post.likes\n",
    "    c.post.comments <- post.comments\n",
    "    \n",
    "  }\n",
    "  # Append\n",
    "  if(p !=posts.abc$id[1]){\n",
    "    c.post.sum <- rbind(c.post.sum,post.sum)\n",
    "    c.post.likes <- rbind(c.post.likes,post.likes)\n",
    "    c.post.comments <- rbind(c.post.comments,post.comments)\n",
    "  }\n",
    "  \n",
    "}\n",
    "\n"
   ]
  },
  {
   "cell_type": "markdown",
   "metadata": {},
   "source": [
    "# References\n",
    "\n",
    "1 https://developers.facebook.com/tools/explorer\n",
    "\n",
    "2 http://romainfrancois.blog.free.fr/?post/2012/01/15/Crawling-facebook-with-R\n",
    "\n",
    "3 http://www.r-bloggers.com/mining-facebook-data-most-liked-status-and-friendship-network/\n",
    "\n",
    "4 http://stackoverflow.com/questions/8122879/roauth-on-windows-using-r\n",
    "\n",
    "5 http://blog.revolutionanalytics.com/2013/11/how-to-analyze-you-facebook-friends-network-with-r.html\n",
    "\n",
    "6 http://pablobarbera.com/blog/archives/3.html\n",
    "\n",
    "7 http://thinktostart.com/analyzing-facebook-with-r/\n",
    "\n",
    "8 http://stackoverflow.com/questions/5573862/accessing-facebook-api-from-r-for-text-mining\n",
    "\n",
    "9 http://dni-institute.in/blogs/extracting-data-from-facebook-using-r/"
   ]
  }
 ],
 "metadata": {
  "kernelspec": {
   "display_name": "R",
   "language": "R",
   "name": "ir"
  },
  "language_info": {
   "codemirror_mode": "r",
   "file_extension": ".r",
   "mimetype": "text/x-r-source",
   "name": "R",
   "pygments_lexer": "r",
   "version": "3.3.2"
  }
 },
 "nbformat": 4,
 "nbformat_minor": 2
}
